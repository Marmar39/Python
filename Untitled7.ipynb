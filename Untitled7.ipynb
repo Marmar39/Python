{
 "cells": [
  {
   "cell_type": "code",
   "execution_count": 11,
   "metadata": {},
   "outputs": [
    {
     "name": "stdout",
     "output_type": "stream",
     "text": [
      "set M:= 1 2 3;\n",
      "set N:= 1 2;\n",
      "\n",
      "param p:= 1;\n",
      "\n",
      "param d:= \n",
      "1\t2\n",
      "2\t3\n",
      ";\n",
      "\n",
      "param c:=\n",
      "1 1 1\n",
      "1 2 3\n",
      "2 1 3\n",
      "2 2 3\n",
      "3 1 4\n",
      "3 2 1\n",
      ";[    0.00] Setting up Pyomo environment\n",
      "[    0.00] Applying Pyomo preprocessing actions\n",
      "[    0.00] Pyomo Finished\n",
      "ERROR: Unexpected exception while running model:\n",
      "\tFile Untitled7.py does not exist!\n",
      "# ==========================================================\n",
      "# = Solver Results                                         =\n",
      "# ==========================================================\n",
      "# ----------------------------------------------------------\n",
      "#   Problem Information\n",
      "# ----------------------------------------------------------\n",
      "Problem: \n",
      "- Name: unknown\n",
      "  Lower bound: -inf\n",
      "  Upper bound: inf\n",
      "  Number of objectives: 1\n",
      "  Number of constraints: 8\n",
      "  Number of variables: 3\n",
      "  Number of nonzeros: 15\n",
      "  Sense: minimize\n",
      "# ----------------------------------------------------------\n",
      "#   Solver Information\n",
      "# ----------------------------------------------------------\n",
      "Solver: \n",
      "- Status: ok\n",
      "  Termination condition: other\n",
      "  Statistics: \n",
      "    Branch and bound: \n",
      "      Number of bounded subproblems: 0\n",
      "      Number of created subproblems: 0\n",
      "  Error rc: 0\n",
      "  Time: 0.011501073837280273\n"
     ]
    }
   ],
   "source": [
    "#The p-Median Problem: http://nbviewer.jupyter.org/github/Pyomo/PyomoGallery/blob/master/p_median/p_median.ipynb\n",
    "from __future__ import division\n",
    "from pyomo.environ import *\n",
    "model = AbstractModel()\n",
    "model.M = Param(within=NonNegativeIntegers)\n",
    "model.N = Param(within=NonNegativeIntegers)\n",
    "\n",
    "model.I = RangeSet(1,model.M)\n",
    "model.J = RangeSet(1,model.N)\n",
    "model.P = Param()\n",
    "model.d = Param(model.J)\n",
    "model.c = Param(model.I, model.J)\n",
    "\n",
    "model.x = Var(model.I, model.J, domain= NonNegativeReals)\n",
    "model.y = Var(model.I, domain= Binary)\n",
    "\n",
    "def objj1(model):\n",
    "    return sum(model.d[j]*model.c[i,j]*model.x[i,j] for (i,j) in model.I * model.J)\n",
    "model.OBJ = Objective(rule = objj1, sense= maximize)\n",
    "def const1 (model,j):\n",
    "    return sum(model.x[i,j] for i in model.I) == 1\n",
    "model.cons1 = Constraint(model.J, rule=const1)\n",
    "def const2(model):\n",
    "    return sum(model.y[i] for i in model.I) == model.P\n",
    "model.const2 = Constraint(rule = const2)\n",
    "def const3(model, i,j):\n",
    "    return model.x[i,j]<=model.y[i]\n",
    "model.const3 = Constraint(model.I, model.J, rule = const3)\n",
    "#instance = model.create(\"Exp3.dat\")\n",
    "#instance.pprint()\n",
    "!cat Exp4.dat\n",
    "!pyomo solve --solver=glpk Untitled7.py Exp4.dat\n",
    "!cat results.yml"
   ]
  },
  {
   "cell_type": "code",
   "execution_count": null,
   "metadata": {
    "collapsed": true
   },
   "outputs": [],
   "source": []
  }
 ],
 "metadata": {
  "kernelspec": {
   "display_name": "Python 3",
   "language": "python",
   "name": "python3"
  },
  "language_info": {
   "codemirror_mode": {
    "name": "ipython",
    "version": 3
   },
   "file_extension": ".py",
   "mimetype": "text/x-python",
   "name": "python",
   "nbconvert_exporter": "python",
   "pygments_lexer": "ipython3",
   "version": "3.6.1"
  }
 },
 "nbformat": 4,
 "nbformat_minor": 2
}
